{
 "cells": [
  {
   "cell_type": "markdown",
   "metadata": {},
   "source": [
    "## TP MACHINE LEARNING: Données Vowel"
   ]
  },
  {
   "cell_type": "markdown",
   "metadata": {},
   "source": [
    "### 1. Data Vowel: "
   ]
  },
  {
   "cell_type": "code",
   "execution_count": 2,
   "metadata": {},
   "outputs": [],
   "source": [
    "import numpy as np\n",
    "\n",
    "import matplotlib.pyplot as plt\n",
    "from matplotlib.colors import ListedColormap\n",
    "%matplotlib inline\n",
    "\n",
    "import pandas as pd\n",
    "import seaborn as sns\n",
    "from sklearn.naive_bayes import GaussianNB\n",
    "from sklearn.discriminant_analysis import LinearDiscriminantAnalysis\n",
    "from sklearn.discriminant_analysis import QuadraticDiscriminantAnalysis"
   ]
  },
  {
   "cell_type": "markdown",
   "metadata": {},
   "source": [
    "### La première étape à faire est d'importer les données d'entrainements et tests."
   ]
  },
  {
   "cell_type": "code",
   "execution_count": 3,
   "metadata": {},
   "outputs": [
    {
     "data": {
      "text/html": [
       "<div>\n",
       "<style scoped>\n",
       "    .dataframe tbody tr th:only-of-type {\n",
       "        vertical-align: middle;\n",
       "    }\n",
       "\n",
       "    .dataframe tbody tr th {\n",
       "        vertical-align: top;\n",
       "    }\n",
       "\n",
       "    .dataframe thead th {\n",
       "        text-align: right;\n",
       "    }\n",
       "</style>\n",
       "<table border=\"1\" class=\"dataframe\">\n",
       "  <thead>\n",
       "    <tr style=\"text-align: right;\">\n",
       "      <th></th>\n",
       "      <th>y</th>\n",
       "      <th>x.1</th>\n",
       "      <th>x.2</th>\n",
       "      <th>x.3</th>\n",
       "      <th>x.4</th>\n",
       "      <th>x.5</th>\n",
       "      <th>x.6</th>\n",
       "      <th>x.7</th>\n",
       "      <th>x.8</th>\n",
       "      <th>x.9</th>\n",
       "      <th>x.10</th>\n",
       "    </tr>\n",
       "    <tr>\n",
       "      <th>row.names</th>\n",
       "      <th></th>\n",
       "      <th></th>\n",
       "      <th></th>\n",
       "      <th></th>\n",
       "      <th></th>\n",
       "      <th></th>\n",
       "      <th></th>\n",
       "      <th></th>\n",
       "      <th></th>\n",
       "      <th></th>\n",
       "      <th></th>\n",
       "    </tr>\n",
       "  </thead>\n",
       "  <tbody>\n",
       "    <tr>\n",
       "      <th>1</th>\n",
       "      <td>1</td>\n",
       "      <td>-3.639</td>\n",
       "      <td>0.418</td>\n",
       "      <td>-0.670</td>\n",
       "      <td>1.779</td>\n",
       "      <td>-0.168</td>\n",
       "      <td>1.627</td>\n",
       "      <td>-0.388</td>\n",
       "      <td>0.529</td>\n",
       "      <td>-0.874</td>\n",
       "      <td>-0.814</td>\n",
       "    </tr>\n",
       "    <tr>\n",
       "      <th>2</th>\n",
       "      <td>2</td>\n",
       "      <td>-3.327</td>\n",
       "      <td>0.496</td>\n",
       "      <td>-0.694</td>\n",
       "      <td>1.365</td>\n",
       "      <td>-0.265</td>\n",
       "      <td>1.933</td>\n",
       "      <td>-0.363</td>\n",
       "      <td>0.510</td>\n",
       "      <td>-0.621</td>\n",
       "      <td>-0.488</td>\n",
       "    </tr>\n",
       "    <tr>\n",
       "      <th>3</th>\n",
       "      <td>3</td>\n",
       "      <td>-2.120</td>\n",
       "      <td>0.894</td>\n",
       "      <td>-1.576</td>\n",
       "      <td>0.147</td>\n",
       "      <td>-0.707</td>\n",
       "      <td>1.559</td>\n",
       "      <td>-0.579</td>\n",
       "      <td>0.676</td>\n",
       "      <td>-0.809</td>\n",
       "      <td>-0.049</td>\n",
       "    </tr>\n",
       "    <tr>\n",
       "      <th>4</th>\n",
       "      <td>4</td>\n",
       "      <td>-2.287</td>\n",
       "      <td>1.809</td>\n",
       "      <td>-1.498</td>\n",
       "      <td>1.012</td>\n",
       "      <td>-1.053</td>\n",
       "      <td>1.060</td>\n",
       "      <td>-0.567</td>\n",
       "      <td>0.235</td>\n",
       "      <td>-0.091</td>\n",
       "      <td>-0.795</td>\n",
       "    </tr>\n",
       "    <tr>\n",
       "      <th>5</th>\n",
       "      <td>5</td>\n",
       "      <td>-2.598</td>\n",
       "      <td>1.938</td>\n",
       "      <td>-0.846</td>\n",
       "      <td>1.062</td>\n",
       "      <td>-1.633</td>\n",
       "      <td>0.764</td>\n",
       "      <td>0.394</td>\n",
       "      <td>-0.150</td>\n",
       "      <td>0.277</td>\n",
       "      <td>-0.396</td>\n",
       "    </tr>\n",
       "  </tbody>\n",
       "</table>\n",
       "</div>"
      ],
      "text/plain": [
       "           y    x.1    x.2    x.3    x.4    x.5    x.6    x.7    x.8    x.9  \\\n",
       "row.names                                                                     \n",
       "1          1 -3.639  0.418 -0.670  1.779 -0.168  1.627 -0.388  0.529 -0.874   \n",
       "2          2 -3.327  0.496 -0.694  1.365 -0.265  1.933 -0.363  0.510 -0.621   \n",
       "3          3 -2.120  0.894 -1.576  0.147 -0.707  1.559 -0.579  0.676 -0.809   \n",
       "4          4 -2.287  1.809 -1.498  1.012 -1.053  1.060 -0.567  0.235 -0.091   \n",
       "5          5 -2.598  1.938 -0.846  1.062 -1.633  0.764  0.394 -0.150  0.277   \n",
       "\n",
       "            x.10  \n",
       "row.names         \n",
       "1         -0.814  \n",
       "2         -0.488  \n",
       "3         -0.049  \n",
       "4         -0.795  \n",
       "5         -0.396  "
      ]
     },
     "execution_count": 3,
     "metadata": {},
     "output_type": "execute_result"
    }
   ],
   "source": [
    "train=pd.read_csv('vowel.train.csv', sep=',',index_col=0)\n",
    "train.head()"
   ]
  },
  {
   "cell_type": "code",
   "execution_count": 4,
   "metadata": {},
   "outputs": [
    {
     "data": {
      "text/html": [
       "<div>\n",
       "<style scoped>\n",
       "    .dataframe tbody tr th:only-of-type {\n",
       "        vertical-align: middle;\n",
       "    }\n",
       "\n",
       "    .dataframe tbody tr th {\n",
       "        vertical-align: top;\n",
       "    }\n",
       "\n",
       "    .dataframe thead th {\n",
       "        text-align: right;\n",
       "    }\n",
       "</style>\n",
       "<table border=\"1\" class=\"dataframe\">\n",
       "  <thead>\n",
       "    <tr style=\"text-align: right;\">\n",
       "      <th></th>\n",
       "      <th>y</th>\n",
       "      <th>x.1</th>\n",
       "      <th>x.2</th>\n",
       "      <th>x.3</th>\n",
       "      <th>x.4</th>\n",
       "      <th>x.5</th>\n",
       "      <th>x.6</th>\n",
       "      <th>x.7</th>\n",
       "      <th>x.8</th>\n",
       "      <th>x.9</th>\n",
       "      <th>x.10</th>\n",
       "    </tr>\n",
       "    <tr>\n",
       "      <th>row.names</th>\n",
       "      <th></th>\n",
       "      <th></th>\n",
       "      <th></th>\n",
       "      <th></th>\n",
       "      <th></th>\n",
       "      <th></th>\n",
       "      <th></th>\n",
       "      <th></th>\n",
       "      <th></th>\n",
       "      <th></th>\n",
       "      <th></th>\n",
       "    </tr>\n",
       "  </thead>\n",
       "  <tbody>\n",
       "    <tr>\n",
       "      <th>1</th>\n",
       "      <td>1</td>\n",
       "      <td>-1.149</td>\n",
       "      <td>-0.904</td>\n",
       "      <td>-1.988</td>\n",
       "      <td>0.739</td>\n",
       "      <td>-0.060</td>\n",
       "      <td>1.206</td>\n",
       "      <td>0.864</td>\n",
       "      <td>1.196</td>\n",
       "      <td>-0.300</td>\n",
       "      <td>-0.467</td>\n",
       "    </tr>\n",
       "    <tr>\n",
       "      <th>2</th>\n",
       "      <td>2</td>\n",
       "      <td>-2.613</td>\n",
       "      <td>-0.092</td>\n",
       "      <td>-0.540</td>\n",
       "      <td>0.484</td>\n",
       "      <td>0.389</td>\n",
       "      <td>1.741</td>\n",
       "      <td>0.198</td>\n",
       "      <td>0.257</td>\n",
       "      <td>-0.375</td>\n",
       "      <td>-0.604</td>\n",
       "    </tr>\n",
       "    <tr>\n",
       "      <th>3</th>\n",
       "      <td>3</td>\n",
       "      <td>-2.505</td>\n",
       "      <td>0.632</td>\n",
       "      <td>-0.593</td>\n",
       "      <td>0.304</td>\n",
       "      <td>0.496</td>\n",
       "      <td>0.824</td>\n",
       "      <td>-0.162</td>\n",
       "      <td>0.181</td>\n",
       "      <td>-0.363</td>\n",
       "      <td>-0.764</td>\n",
       "    </tr>\n",
       "    <tr>\n",
       "      <th>4</th>\n",
       "      <td>4</td>\n",
       "      <td>-1.768</td>\n",
       "      <td>1.769</td>\n",
       "      <td>-1.142</td>\n",
       "      <td>-0.739</td>\n",
       "      <td>-0.086</td>\n",
       "      <td>0.120</td>\n",
       "      <td>-0.230</td>\n",
       "      <td>0.217</td>\n",
       "      <td>-0.009</td>\n",
       "      <td>-0.279</td>\n",
       "    </tr>\n",
       "    <tr>\n",
       "      <th>5</th>\n",
       "      <td>5</td>\n",
       "      <td>-2.671</td>\n",
       "      <td>3.155</td>\n",
       "      <td>-0.514</td>\n",
       "      <td>0.133</td>\n",
       "      <td>-0.964</td>\n",
       "      <td>0.234</td>\n",
       "      <td>-0.071</td>\n",
       "      <td>1.192</td>\n",
       "      <td>0.254</td>\n",
       "      <td>-0.471</td>\n",
       "    </tr>\n",
       "  </tbody>\n",
       "</table>\n",
       "</div>"
      ],
      "text/plain": [
       "           y    x.1    x.2    x.3    x.4    x.5    x.6    x.7    x.8    x.9  \\\n",
       "row.names                                                                     \n",
       "1          1 -1.149 -0.904 -1.988  0.739 -0.060  1.206  0.864  1.196 -0.300   \n",
       "2          2 -2.613 -0.092 -0.540  0.484  0.389  1.741  0.198  0.257 -0.375   \n",
       "3          3 -2.505  0.632 -0.593  0.304  0.496  0.824 -0.162  0.181 -0.363   \n",
       "4          4 -1.768  1.769 -1.142 -0.739 -0.086  0.120 -0.230  0.217 -0.009   \n",
       "5          5 -2.671  3.155 -0.514  0.133 -0.964  0.234 -0.071  1.192  0.254   \n",
       "\n",
       "            x.10  \n",
       "row.names         \n",
       "1         -0.467  \n",
       "2         -0.604  \n",
       "3         -0.764  \n",
       "4         -0.279  \n",
       "5         -0.471  "
      ]
     },
     "execution_count": 4,
     "metadata": {},
     "output_type": "execute_result"
    }
   ],
   "source": [
    "test=pd.read_csv('vowel.test.csv', sep=',',index_col=0)\n",
    "test.head()"
   ]
  },
  {
   "cell_type": "markdown",
   "metadata": {},
   "source": [
    "### ensuite voyons la dimension et le type de nos données avec la fonction shape et type"
   ]
  },
  {
   "cell_type": "code",
   "execution_count": 5,
   "metadata": {},
   "outputs": [
    {
     "name": "stdout",
     "output_type": "stream",
     "text": [
      "(528, 11)\n",
      "(462, 11)\n",
      "<class 'pandas.core.frame.DataFrame'>\n"
     ]
    }
   ],
   "source": [
    "print(train.shape)\n",
    "print(test.shape)\n",
    "print(type(train))"
   ]
  },
  {
   "cell_type": "markdown",
   "metadata": {},
   "source": [
    "### on finit par definir les matrices X_train,X_test et les vecteurs y_train,y_test"
   ]
  },
  {
   "cell_type": "code",
   "execution_count": 6,
   "metadata": {},
   "outputs": [],
   "source": [
    "X_train=train.iloc[:,1:].values\n",
    "y_train=train.iloc[:,0].values\n",
    "X_test=test.iloc[:,1:].values\n",
    "y_test=test.iloc[:,0].values"
   ]
  },
  {
   "cell_type": "markdown",
   "metadata": {},
   "source": [
    "### On verifie la taille des matrices et des vecteurs definies ci-dessus"
   ]
  },
  {
   "cell_type": "code",
   "execution_count": 7,
   "metadata": {},
   "outputs": [
    {
     "name": "stdout",
     "output_type": "stream",
     "text": [
      "(528, 10)\n",
      "(462, 10)\n",
      "(528,)\n",
      "(462,)\n"
     ]
    }
   ],
   "source": [
    "print(X_train.shape)\n",
    "print(X_test.shape)\n",
    "print(y_train.shape)\n",
    "print(y_test.shape)"
   ]
  },
  {
   "cell_type": "markdown",
   "metadata": {},
   "source": [
    "### les differents valeurs de nos données cibles sont:"
   ]
  },
  {
   "cell_type": "code",
   "execution_count": 8,
   "metadata": {},
   "outputs": [
    {
     "data": {
      "text/plain": [
       "array([ 1,  2,  3,  4,  5,  6,  7,  8,  9, 10, 11], dtype=int64)"
      ]
     },
     "execution_count": 8,
     "metadata": {},
     "output_type": "execute_result"
    }
   ],
   "source": [
    "np.unique(train['y'])"
   ]
  },
  {
   "cell_type": "markdown",
   "metadata": {},
   "source": [
    "### d'aprés les données cibles c'est un probleme de classification multiclass avec 11 classes ensuite éssayons de visualiser nos données cibles grâce à un histogramme."
   ]
  },
  {
   "cell_type": "code",
   "execution_count": 9,
   "metadata": {},
   "outputs": [
    {
     "data": {
      "text/plain": [
       "<matplotlib.axes._subplots.AxesSubplot at 0xc63a0e6518>"
      ]
     },
     "execution_count": 9,
     "metadata": {},
     "output_type": "execute_result"
    },
    {
     "data": {
      "image/png": "[encoded data removed]",
      "text/plain": [
       "<Figure size 432x288 with 1 Axes>"
      ]
     },
     "metadata": {
      "needs_background": "light"
     },
     "output_type": "display_data"
    }
   ],
   "source": [
    "import seaborn as sns\n",
    "sns.barplot(np.unique(train['y']),train.groupby('y').count().values[:,0])"
   ]
  },
  {
   "cell_type": "markdown",
   "metadata": {},
   "source": [
    "## 1.Naive Bayes"
   ]
  },
  {
   "cell_type": "code",
   "execution_count": 10,
   "metadata": {},
   "outputs": [],
   "source": [
    "from sklearn.naive_bayes import GaussianNB\n",
    "gnb=GaussianNB()\n",
    "#fitting classifier to the training set\n",
    "gnb_fit=gnb.fit(X_train,y_train)\n",
    "#predicting the Test set result\n",
    "y_pred_test=gnb_fit.predict(X_test)\n",
    "y_pred_train=gnb_fit.predict(X_train)"
   ]
  },
  {
   "cell_type": "code",
   "execution_count": 11,
   "metadata": {},
   "outputs": [
    {
     "name": "stdout",
     "output_type": "stream",
     "text": [
      "le score sur le test est  0.461\n",
      "le score sur le train est  0.720\n"
     ]
    }
   ],
   "source": [
    "from sklearn.metrics import accuracy_score\n",
    "print(\"le score sur le test est \",(\"%.3f\" % accuracy_score(y_pred_test,y_test)))\n",
    "print(\"le score sur le train est \",(\"%.3f\" % accuracy_score(y_pred_train,y_train)))"
   ]
  },
  {
   "cell_type": "markdown",
   "metadata": {},
   "source": [
    "## 2.LDA"
   ]
  },
  {
   "cell_type": "code",
   "execution_count": 12,
   "metadata": {},
   "outputs": [],
   "source": [
    "lda=LinearDiscriminantAnalysis()\n",
    "lda_fit=lda.fit(X_train,y_train)\n",
    "y_pred_test=lda_fit.predict(X_test)\n",
    "y_pred_train=lda_fit.predict(X_train)"
   ]
  },
  {
   "cell_type": "code",
   "execution_count": 13,
   "metadata": {},
   "outputs": [
    {
     "name": "stdout",
     "output_type": "stream",
     "text": [
      "le score sur le test est  0.444\n",
      "le score sur le train est  0.684\n"
     ]
    }
   ],
   "source": [
    "from sklearn.metrics import accuracy_score\n",
    "print(\"le score sur le test est \",(\"%.3f\" % accuracy_score(y_pred_test,y_test)))\n",
    "print(\"le score sur le train est \",(\"%.3f\" % accuracy_score(y_pred_train,y_train)))"
   ]
  },
  {
   "cell_type": "markdown",
   "metadata": {},
   "source": [
    "### .comparaison entre la méthode LDA et Naive Bayes\n",
    "### On constate que la methode Naive Bayes est beaucoup plus precis que la méthode LDA vu que son score  de test et de train est respectivement 46% et 72% tandisque celle de la méthode LDA est de 44% et 68%. On s'attendait à cela car la LDA est une méthode linéairement  qui marche trés bien avec des points linéairement séparable."
   ]
  },
  {
   "cell_type": "markdown",
   "metadata": {},
   "source": [
    "## 3.QDA"
   ]
  },
  {
   "cell_type": "code",
   "execution_count": 14,
   "metadata": {},
   "outputs": [],
   "source": [
    "qda=QuadraticDiscriminantAnalysis()\n",
    "qda_fit=qda.fit(X_train,y_train)\n",
    "y_pred_test=qda_fit.predict(X_test)\n",
    "y_pred_train=qda_fit.predict(X_train)"
   ]
  },
  {
   "cell_type": "code",
   "execution_count": 15,
   "metadata": {},
   "outputs": [
    {
     "name": "stdout",
     "output_type": "stream",
     "text": [
      "le score sur le test est  0.472\n",
      "le score sur le train est  0.989\n"
     ]
    }
   ],
   "source": [
    "from sklearn.metrics import accuracy_score\n",
    "print(\"le score sur le test est \",(\"%.3f\" % accuracy_score(y_pred_test,y_test)))\n",
    "print(\"le score sur le train est \",(\"%.3f\" % accuracy_score(y_pred_train,y_train)))"
   ]
  },
  {
   "cell_type": "markdown",
   "metadata": {},
   "source": [
    "## Comparaison entre QDA et NAIVE BAYES:\n",
    "### Conclusion: d'aprés l'accuracy des deux methodes la QDA est la meilleure méthode vu que sa précision sur le test est de 47%  et néttement supérieur à celle de Naive Bayes qui est de 46%. mais aussi on a une précision importante sur le train qui est de 98%."
   ]
  },
  {
   "cell_type": "markdown",
   "metadata": {},
   "source": [
    "## 4.Knn"
   ]
  },
  {
   "cell_type": "markdown",
   "metadata": {},
   "source": [
    "### Utilisons l'algo k-NN pour différents k et comparons ses performances"
   ]
  },
  {
   "cell_type": "code",
   "execution_count": 16,
   "metadata": {},
   "outputs": [
    {
     "data": {
      "text/plain": [
       "KNeighborsClassifier(algorithm='auto', leaf_size=30, metric='minkowski',\n",
       "           metric_params=None, n_jobs=1, n_neighbors=6, p=2,\n",
       "           weights='uniform')"
      ]
     },
     "execution_count": 16,
     "metadata": {},
     "output_type": "execute_result"
    }
   ],
   "source": [
    "from sklearn import neighbors\n",
    "knn=neighbors.KNeighborsClassifier(n_neighbors=6)\n",
    "knn_fit=knn.fit(X_train, y_train)\n",
    "knn_fit"
   ]
  },
  {
   "cell_type": "code",
   "execution_count": 17,
   "metadata": {},
   "outputs": [],
   "source": [
    "acc_train=[]\n",
    "acc_test=[]\n",
    "for k in np.arange(1,50):\n",
    "    knn=neighbors.KNeighborsClassifier(n_neighbors=k)\n",
    "    knn_fit=knn.fit(X=X_train,y=y_train)\n",
    "    acc_train.append(accuracy_score(knn_fit.predict(X_train),y_train))\n",
    "    acc_test.append(accuracy_score(knn_fit.predict(X_test),y_test))"
   ]
  },
  {
   "cell_type": "code",
   "execution_count": 18,
   "metadata": {},
   "outputs": [
    {
     "name": "stdout",
     "output_type": "stream",
     "text": [
      "Le score sur le train est: 0.977\n",
      "Le score sur le test est: 0.608\n"
     ]
    }
   ],
   "source": [
    "k_hat=np.argmax(acc_test)\n",
    "print(\"Le score sur le train est:\",(\"%.3f\" % acc_train[k_hat]))\n",
    "print(\"Le score sur le test est:\",(\"%.3f\" % acc_test[k_hat]))"
   ]
  },
  {
   "cell_type": "code",
   "execution_count": 19,
   "metadata": {},
   "outputs": [
    {
     "data": {
      "text/plain": [
       "5"
      ]
     },
     "execution_count": 19,
     "metadata": {},
     "output_type": "execute_result"
    }
   ],
   "source": [
    "k_hat\n"
   ]
  },
  {
   "cell_type": "markdown",
   "metadata": {},
   "source": [
    "NB:on voit que k_hat est à la 5éme position de notre tablau acc_test donc le nombre de voisin est bien égale à 6."
   ]
  },
  {
   "cell_type": "markdown",
   "metadata": {},
   "source": [
    "### k=k_hat+1, est le nombre de voisins qui maximise l'accuracy_score sur les données test qui est égale à 6. Cela veut dire en d'autres termes, un nouveau point de donnée est étiqueté avec une majorité des 6 points les plus proches.\n",
    "\n",
    "### On le voit clairement dans le graphe ci-dessous"
   ]
  },
  {
   "cell_type": "markdown",
   "metadata": {},
   "source": [
    "### le graphe suivant nous permet de comparer la précision du modèle k-nn en fonction du nombre de voisins(k)."
   ]
  },
  {
   "cell_type": "code",
   "execution_count": 20,
   "metadata": {},
   "outputs": [
    {
     "data": {
      "text/plain": [
       "<matplotlib.legend.Legend at 0xc63a89f278>"
      ]
     },
     "execution_count": 20,
     "metadata": {},
     "output_type": "execute_result"
    },
    {
     "data": {
      "image/png": "[encoded data removed]",
      "text/plain": [
       "<Figure size 432x288 with 1 Axes>"
      ]
     },
     "metadata": {
      "needs_background": "light"
     },
     "output_type": "display_data"
    }
   ],
   "source": [
    "plt.plot(np.arange(1,50),acc_train,label='Accuracy on train')\n",
    "plt.plot(np.arange(1,50),acc_test,label='Accuracy on test')\n",
    "plt.axvline(np.arange(1,50)[k_hat],label='best k on test')\n",
    "plt.legend()"
   ]
  },
  {
   "cell_type": "markdown",
   "metadata": {},
   "source": [
    "### Analyses et interprétations du graphe ci-dessus:\n",
    "### le graphe ci-dessus représente l'accuracy sur les données d'entrainements et test en fonction du nombre de voisin.\n",
    "\n",
    "### on remarque que lorsque k devient trés grand l'accuracy(train,test) diminue jusqu'à atteindre 0.5 pour train et environ 0.20 pour le test donc on peut dire que le modéle a sous-appris(Underfitting).\n",
    "\n",
    "### lorsque k est petit(k<6) l'accuracy devient grand pour le train jusqu'à atteindre 0.95 donc on peut dire que le modèle a sur-appris(Overfitting)."
   ]
  },
  {
   "cell_type": "markdown",
   "metadata": {},
   "source": [
    "## 5. Cross_Validation via sklearn\n",
    "On va utiliser la cross-validation pour la méthodes(Knn)"
   ]
  },
  {
   "cell_type": "markdown",
   "metadata": {},
   "source": [
    "# i) Knn\n",
    "pour le nombre de voisin on a choisi k=k_hat=5."
   ]
  },
  {
   "cell_type": "markdown",
   "metadata": {},
   "source": [
    "### Afin de former et de tester notre modèle à l'aide de la cross-validation, nous importons la fonction 'cross_val_score' avec une valeur de cv=5.\n",
    "### 'cross_val_score' prend notre modèle k-nn et nos données en tant que paramètres. Ensuite, il divise nos données en 5 groupes, les ajuste et les note 5 fois, en enregistrant le score de précision dans un tableau à chaque fois et notre précision finale sera la moyenne de notre tableau . Le code suivant illustre notre explication."
   ]
  },
  {
   "cell_type": "code",
   "execution_count": 57,
   "metadata": {},
   "outputs": [
    {
     "name": "stdout",
     "output_type": "stream",
     "text": [
      "le score des 5 cross-validation pour le train est:\n",
      "[0.59090909 0.66363636 0.72727273 0.5959596  0.50505051]\n",
      "Le score moyen des 5 cv sur le train est: 0.617\n",
      "le score des 5 cross-validation pour le test est:\n",
      "[0.6969697  0.66666667 0.68181818 0.71590909 0.63636364]\n",
      "Le score moyen des 5 cv sur le test est: 0.680\n"
     ]
    }
   ],
   "source": [
    "from sklearn.model_selection import cross_val_score\n",
    "knn=neighbors.KNeighborsClassifier(n_neighbors=5)\n",
    "scores_train = cross_val_score(knn, X_train, y_train, cv=5)\n",
    "scores_test = cross_val_score(knn, X_test, y_test, cv=5)\n",
    "print(\"le score des 5 cross-validation pour le train est:\")\n",
    "print(scores_train)\n",
    "print(\"Le score moyen des 5 cv sur le train est:\",(\"%.3f\" % scores_train.mean()))\n",
    "print(\"le score des 5 cross-validation pour le test est:\")\n",
    "print(scores_test)\n",
    "print(\"Le score moyen des 5 cv sur le test est:\",(\"%.3f\" % scores_test.mean()))"
   ]
  },
  {
   "cell_type": "markdown",
   "metadata": {},
   "source": [
    "\n",
    "### La validation croisée offre à notre modèle une possibilité de tester plusieurs fractionnements afin que nous puissions avoir une meilleure idée de la performance du modèle. \n",
    "### En utilisant la validation croisée, notre score moyen sur le test est d'environ 68%. Il s'agit d'une représentation plus précise de la performance de notre modèle sur nos données comparé à la précision du k-nn sans cv avec k=6 où on a une précision de 60% sur les tests. \n",
    "\n",
    "### Par contre sur les données train on a une précision environ de 97% sans CV(cross_validation) et 61.7% avec CV."
   ]
  },
  {
   "cell_type": "markdown",
   "metadata": {},
   "source": [
    "### essayons de determiner le nombre de voisins en utilisant la cv pour differents k et cv=5.\n"
   ]
  },
  {
   "cell_type": "code",
   "execution_count": 32,
   "metadata": {},
   "outputs": [],
   "source": [
    "scores_train=[]\n",
    "scores_test=[]\n",
    "\n",
    "for k in range(1,50):\n",
    "    \n",
    "    from sklearn.model_selection import cross_val_score\n",
    "    knn=neighbors.KNeighborsClassifier(n_neighbors=k)\n",
    "    scores_train.append(cross_val_score(knn, X_train, y_train, cv=5))\n",
    "    scores_test.append(cross_val_score(knn, X_test, y_test, cv=5))\n"
   ]
  },
  {
   "cell_type": "code",
   "execution_count": 55,
   "metadata": {},
   "outputs": [
    {
     "name": "stdout",
     "output_type": "stream",
     "text": [
      "le score des 5 cv de test pour les 10 premiers k est:\n",
      "[array([0.70707071, 0.71717172, 0.59090909, 0.96590909, 0.68181818]), array([0.68686869, 0.68686869, 0.625     , 0.89772727, 0.68181818]), array([0.71717172, 0.65656566, 0.67045455, 0.93181818, 0.63636364]), array([0.68686869, 0.67676768, 0.70454545, 0.76136364, 0.69318182]), array([0.6969697 , 0.66666667, 0.68181818, 0.71590909, 0.63636364]), array([0.66666667, 0.65656566, 0.65909091, 0.71590909, 0.64772727]), array([0.71717172, 0.58585859, 0.63636364, 0.65909091, 0.65909091]), array([0.70707071, 0.56565657, 0.60227273, 0.65909091, 0.67045455]), array([0.68686869, 0.54545455, 0.59090909, 0.625     , 0.61363636]), array([0.67676768, 0.57575758, 0.59090909, 0.64772727, 0.61363636])]\n"
     ]
    }
   ],
   "source": [
    "print(\"le score des 5 cv de test pour les 10 premiers k est:\")\n",
    "print(scores_test[0:10])"
   ]
  },
  {
   "cell_type": "markdown",
   "metadata": {},
   "source": [
    "### on stocke le score des tests sur un tableau pour chaque k et le code suivant permet de calculer la moyenne sur le tableau pour différents k"
   ]
  },
  {
   "cell_type": "code",
   "execution_count": 49,
   "metadata": {},
   "outputs": [
    {
     "name": "stdout",
     "output_type": "stream",
     "text": [
      "on affiche les 10 premiers moyennes de notre tableau score_test\n",
      "[0.7325757575757575, 0.7156565656565655, 0.7224747474747474, 0.7045454545454546, 0.6795454545454545, 0.6691919191919192, 0.6515151515151516, 0.6409090909090909, 0.6123737373737373, 0.6209595959595959]\n"
     ]
    }
   ],
   "source": [
    "score_mean_test=[]\n",
    "for k in range(0,49):\n",
    "    score_mean_test.append(scores_test[k].mean())\n",
    "print(\"on affiche les 10 premiers moyennes de notre tableau score_test\")\n",
    "print(score_mean_test[0:10])\n",
    "    \n",
    "    "
   ]
  },
  {
   "cell_type": "markdown",
   "metadata": {},
   "source": [
    "### on va chercher le max de ce tableau"
   ]
  },
  {
   "cell_type": "code",
   "execution_count": 50,
   "metadata": {},
   "outputs": [
    {
     "data": {
      "text/plain": [
       "0"
      ]
     },
     "execution_count": 50,
     "metadata": {},
     "output_type": "execute_result"
    }
   ],
   "source": [
    "np.argmax(score_mean_test)"
   ]
  },
  {
   "cell_type": "code",
   "execution_count": 34,
   "metadata": {},
   "outputs": [
    {
     "data": {
      "text/plain": [
       "0.7156565656565655"
      ]
     },
     "execution_count": 34,
     "metadata": {},
     "output_type": "execute_result"
    }
   ],
   "source": [
    "scores_test[1].mean()"
   ]
  },
  {
   "cell_type": "markdown",
   "metadata": {},
   "source": [
    "### on trouve que le nombre de voisins qui maximise le score est 1\n"
   ]
  },
  {
   "cell_type": "code",
   "execution_count": null,
   "metadata": {},
   "outputs": [],
   "source": []
  }
 ],
 "metadata": {
  "kernelspec": {
   "display_name": "Python 3",
   "language": "python",
   "name": "python3"
  }
 },
 "nbformat": 4,
 "nbformat_minor": 2
}
